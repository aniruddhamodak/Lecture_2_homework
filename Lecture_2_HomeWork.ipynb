{
  "nbformat": 4,
  "nbformat_minor": 0,
  "metadata": {
    "colab": {
      "name": "Lecture 2 HomeWork.ipynb",
      "provenance": [],
      "authorship_tag": "ABX9TyPg3xPHw9MaOzjB+ejaAM0g",
      "include_colab_link": true
    },
    "kernelspec": {
      "name": "python3",
      "display_name": "Python 3"
    }
  },
  "cells": [
    {
      "cell_type": "markdown",
      "metadata": {
        "id": "view-in-github",
        "colab_type": "text"
      },
      "source": [
        "<a href=\"https://colab.research.google.com/github/aniruddhamodak/Lecture_2_homework/blob/master/Lecture_2_HomeWork.ipynb\" target=\"_parent\"><img src=\"https://colab.research.google.com/assets/colab-badge.svg\" alt=\"Open In Colab\"/></a>"
      ]
    },
    {
      "cell_type": "markdown",
      "metadata": {
        "id": "UuG5rn1kgNHz",
        "colab_type": "text"
      },
      "source": [
        "#Ask the user for his age, if age greater than 18 then print adult, if less then print teenager, remember to set the datatype to an integer like so, int(input())"
      ]
    },
    {
      "cell_type": "code",
      "metadata": {
        "id": "o2lUcpELgsi2",
        "colab_type": "code",
        "outputId": "722c1bb6-d1a7-4f90-b20f-c93e2b12b82a",
        "colab": {
          "base_uri": "https://localhost:8080/",
          "height": 104
        }
      },
      "source": [
        "print (\"Please enter your ege\\n\")\n",
        "age = int(input())\n",
        "if age>=18 :\n",
        "  print (\"Yor are an adult \\n\")\n",
        "\n",
        "else :\n",
        "  print (\"You are a teenager !\\n\")"
      ],
      "execution_count": 0,
      "outputs": [
        {
          "output_type": "stream",
          "text": [
            "Please enter your ege\n",
            "\n",
            "18\n",
            "Yor are an adult \n",
            "\n"
          ],
          "name": "stdout"
        }
      ]
    },
    {
      "cell_type": "markdown",
      "metadata": {
        "id": "p9zLF8Qwh3ug",
        "colab_type": "text"
      },
      "source": [
        " # Make a personal loan approving system, Ask the user for his monthly income. Then ask him if he has an ongoing loan (yes|no), if the user’s income is more than 100000, and his answer to an ongoing loan is no then approve his loan, else reject his loan."
      ]
    },
    {
      "cell_type": "code",
      "metadata": {
        "id": "0hQRM16xldMB",
        "colab_type": "code",
        "outputId": "63aff01d-eddf-4a7c-d4d9-4b23c426304f",
        "colab": {
          "base_uri": "https://localhost:8080/",
          "height": 104
        }
      },
      "source": [
        "print (\"What is your monthly income\")\n",
        "income = int(input())\n",
        "if income >= 100000 :\n",
        "  print (\"Do you have any ongoing loan?\")\n",
        "  ongoing_loan = str(input())\n",
        "  if ongoing_loan == \"yes\" :\n",
        "    print (\"Sorry, You are not eligible for loan\")\n",
        "  else :\n",
        "    print (\"Congrats ! You are eligible for loan\")\n",
        "else :\n",
        "  print(\"Sorry, You are not elgible for loan\")  "
      ],
      "execution_count": 0,
      "outputs": [
        {
          "output_type": "stream",
          "text": [
            "What is your monthly income\n",
            "900000\n",
            "Do you have any ongoing loan?\n",
            "no\n",
            "Congrats ! You are eligible for loan\n"
          ],
          "name": "stdout"
        }
      ]
    },
    {
      "cell_type": "markdown",
      "metadata": {
        "id": "bBb4z90RnpAg",
        "colab_type": "text"
      },
      "source": [
        "# Ask the user if Female (yes|no), if ‘yes’ then print ‘You are a Girl’ else print, ‘You are a boy’"
      ]
    },
    {
      "cell_type": "code",
      "metadata": {
        "id": "FtDsLL2IqAwr",
        "colab_type": "code",
        "outputId": "73e1d746-07e0-4b02-9510-9de10a7f225a",
        "colab": {
          "base_uri": "https://localhost:8080/",
          "height": 69
        }
      },
      "source": [
        "print (\"Are you a female?\")\n",
        "gender = str (input())\n",
        "if gender == \"yes\" :\n",
        "  print (\"You are a girl\")\n",
        "else :\n",
        "  print (\"You are a boy\")"
      ],
      "execution_count": 0,
      "outputs": [
        {
          "output_type": "stream",
          "text": [
            "Are you a female?\n",
            "yes\n",
            "You are a girl\n"
          ],
          "name": "stdout"
        }
      ]
    },
    {
      "cell_type": "markdown",
      "metadata": {
        "id": "74ULZDmC-3b6",
        "colab_type": "text"
      },
      "source": [
        "#Make a list of random numbers and print them all using a for loop"
      ]
    },
    {
      "cell_type": "code",
      "metadata": {
        "id": "ZDb5WXlP--k7",
        "colab_type": "code",
        "outputId": "3e0fe08c-5297-46ae-fca6-d00d38a23483",
        "colab": {
          "base_uri": "https://localhost:8080/",
          "height": 277
        }
      },
      "source": [
        "numbers = [0,1,2,3,4,5,6,7,8,9,10,13,35,67,98]\n",
        "for x in numbers :\n",
        "  print (x)"
      ],
      "execution_count": 0,
      "outputs": [
        {
          "output_type": "stream",
          "text": [
            "0\n",
            "1\n",
            "2\n",
            "3\n",
            "4\n",
            "5\n",
            "6\n",
            "7\n",
            "8\n",
            "9\n",
            "10\n",
            "13\n",
            "35\n",
            "67\n",
            "98\n"
          ],
          "name": "stdout"
        }
      ]
    },
    {
      "cell_type": "markdown",
      "metadata": {
        "id": "ePN588Vo_O5J",
        "colab_type": "text"
      },
      "source": [
        "# Make a list of random number and print only even numbers"
      ]
    },
    {
      "cell_type": "code",
      "metadata": {
        "id": "qaOlLsNy_UY7",
        "colab_type": "code",
        "outputId": "22b49faf-abda-4213-e494-c7dd46cb2542",
        "colab": {
          "base_uri": "https://localhost:8080/",
          "height": 139
        }
      },
      "source": [
        "numbers = [0,1,2,3,4,5,6,7,8,9,10,13,35,67,98]\n",
        "for x in numbers :\n",
        "  if x%2 == 0 :\n",
        "    print (x)"
      ],
      "execution_count": 0,
      "outputs": [
        {
          "output_type": "stream",
          "text": [
            "0\n",
            "2\n",
            "4\n",
            "6\n",
            "8\n",
            "10\n",
            "98\n"
          ],
          "name": "stdout"
        }
      ]
    },
    {
      "cell_type": "markdown",
      "metadata": {
        "id": "cDo8Sfpn_7Ot",
        "colab_type": "text"
      },
      "source": [
        "# Make a dictionary called (myself) with the following keys (name, age, gender and favourite food) and using a for loop print out only the keys"
      ]
    },
    {
      "cell_type": "code",
      "metadata": {
        "id": "l_Y6hyCZ__uP",
        "colab_type": "code",
        "outputId": "0643f9ef-1626-47c9-a939-24fd2c24d7df",
        "colab": {
          "base_uri": "https://localhost:8080/",
          "height": 87
        }
      },
      "source": [
        " myself = {\"name\" : \"aniruddha\" , \"age\" : \"22\", \"gender\" : \"male\", \"favourite_food\" : \"pulav\"}\n",
        " for x in myself :\n",
        "   print (x)"
      ],
      "execution_count": 0,
      "outputs": [
        {
          "output_type": "stream",
          "text": [
            "name\n",
            "age\n",
            "gender\n",
            "favourite_food\n"
          ],
          "name": "stdout"
        }
      ]
    },
    {
      "cell_type": "markdown",
      "metadata": {
        "id": "Uhawld1jBKa5",
        "colab_type": "text"
      },
      "source": [
        "# From the dictionary ‘myself’, print only the values"
      ]
    },
    {
      "cell_type": "code",
      "metadata": {
        "id": "F__vbANxAhLh",
        "colab_type": "code",
        "outputId": "58bb776d-d0ad-40b2-d37d-dd54f40d2d41",
        "colab": {
          "base_uri": "https://localhost:8080/",
          "height": 87
        }
      },
      "source": [
        "for x in myself :\n",
        "  print (myself[x])"
      ],
      "execution_count": 0,
      "outputs": [
        {
          "output_type": "stream",
          "text": [
            "aniruddha\n",
            "22\n",
            "male\n",
            "pulav\n"
          ],
          "name": "stdout"
        }
      ]
    },
    {
      "cell_type": "markdown",
      "metadata": {
        "id": "1JG3BCWaBOJc",
        "colab_type": "text"
      },
      "source": [
        "# From the dictionary ‘myself’, print both the keys and their values"
      ]
    },
    {
      "cell_type": "code",
      "metadata": {
        "id": "WX-LrVtOAnxe",
        "colab_type": "code",
        "outputId": "464c2add-3f1a-4077-b19d-12d10dbd52c5",
        "colab": {
          "base_uri": "https://localhost:8080/",
          "height": 87
        }
      },
      "source": [
        "for x in myself :\n",
        "  print (x, \"-\", myself[x])"
      ],
      "execution_count": 0,
      "outputs": [
        {
          "output_type": "stream",
          "text": [
            "name - aniruddha\n",
            "age - 22\n",
            "gender - male\n",
            "favourite_food - pulav\n"
          ],
          "name": "stdout"
        }
      ]
    },
    {
      "cell_type": "markdown",
      "metadata": {
        "id": "Id72cyXYCWkL",
        "colab_type": "text"
      },
      "source": [
        "# Create a method that takes the persons name as argument and returns it"
      ]
    },
    {
      "cell_type": "code",
      "metadata": {
        "id": "nqLtfZBcGwTE",
        "colab_type": "code",
        "outputId": "08509297-df90-4378-e428-c78f0f3edfd8",
        "colab": {
          "base_uri": "https://localhost:8080/",
          "height": 52
        }
      },
      "source": [
        "def  name(Name):\n",
        "    print(Name)\n",
        "Name = input('enter your name-')\n",
        "name(Name)"
      ],
      "execution_count": 2,
      "outputs": [
        {
          "output_type": "stream",
          "text": [
            "enter your name-Aniruddha\n",
            "Aniruddha\n"
          ],
          "name": "stdout"
        }
      ]
    },
    {
      "cell_type": "markdown",
      "metadata": {
        "id": "jF6ihBsNJnlC",
        "colab_type": "text"
      },
      "source": [
        "# Create a function that takes a dictionary as an input and prints all the keys of the dictionary"
      ]
    },
    {
      "cell_type": "code",
      "metadata": {
        "id": "8VT2HqKdQPnA",
        "colab_type": "code",
        "colab": {}
      },
      "source": [
        ""
      ],
      "execution_count": 0,
      "outputs": []
    },
    {
      "cell_type": "code",
      "metadata": {
        "id": "aGq2NRrjKFx-",
        "colab_type": "code",
        "colab": {}
      },
      "source": [
        "myself = {\"name\" : \"aniruddha\" , \"age\" : \"22\", \"gender\" : \"male\", \"favourite_food\" : \"pulav\"}\n",
        "def print_keys (x):\n",
        "  return x.keys()"
      ],
      "execution_count": 0,
      "outputs": []
    },
    {
      "cell_type": "code",
      "metadata": {
        "id": "9Vj5zA_YK5zH",
        "colab_type": "code",
        "outputId": "1e027677-8e7d-48e4-ee8d-45eb3747b015",
        "colab": {
          "base_uri": "https://localhost:8080/",
          "height": 35
        }
      },
      "source": [
        "print_keys(myself)"
      ],
      "execution_count": 0,
      "outputs": [
        {
          "output_type": "execute_result",
          "data": {
            "text/plain": [
              "dict_keys(['name', 'age', 'gender', 'favourite_food'])"
            ]
          },
          "metadata": {
            "tags": []
          },
          "execution_count": 41
        }
      ]
    },
    {
      "cell_type": "markdown",
      "metadata": {
        "id": "AkuChdaXLKls",
        "colab_type": "text"
      },
      "source": [
        "# Create a function that takes a list of 10 random numbers and prints out only odd numbers"
      ]
    },
    {
      "cell_type": "code",
      "metadata": {
        "id": "FMkX3XR4LQ3r",
        "colab_type": "code",
        "colab": {}
      },
      "source": [
        "numbers = [0,1,2,3,4,5,6,7,8,9,10,13,35,67,98]\n",
        "def odd_number (a) :\n",
        "  for x in numbers:\n",
        "    if x%2 != 0:\n",
        "      print (x)"
      ],
      "execution_count": 0,
      "outputs": []
    },
    {
      "cell_type": "code",
      "metadata": {
        "id": "CEzd7GEgLnTt",
        "colab_type": "code",
        "outputId": "109545fb-364c-4d62-84f0-18bd4af2329d",
        "colab": {
          "base_uri": "https://localhost:8080/",
          "height": 156
        }
      },
      "source": [
        "odd_number (numbers)"
      ],
      "execution_count": 0,
      "outputs": [
        {
          "output_type": "stream",
          "text": [
            "1\n",
            "3\n",
            "5\n",
            "7\n",
            "9\n",
            "13\n",
            "35\n",
            "67\n"
          ],
          "name": "stdout"
        }
      ]
    },
    {
      "cell_type": "markdown",
      "metadata": {
        "id": "sXkGz7tfMyxR",
        "colab_type": "text"
      },
      "source": [
        "# define 4 variables of type, string, float, integer and boolean print the data type for each variables"
      ]
    },
    {
      "cell_type": "code",
      "metadata": {
        "id": "2VJocR7uM5Ly",
        "colab_type": "code",
        "colab": {}
      },
      "source": [
        "name = (\"aniruddha\") # string variable\n",
        "height = 175.9 # float vairable\n",
        "age = 22 # integer variable \n",
        "male = True #boolean variable\n"
      ],
      "execution_count": 0,
      "outputs": []
    },
    {
      "cell_type": "code",
      "metadata": {
        "id": "xdq48fZUAfXA",
        "colab_type": "code",
        "colab": {
          "base_uri": "https://localhost:8080/",
          "height": 35
        },
        "outputId": "eb5865b8-7c91-4e1e-b1d1-1eb839f95b47"
      },
      "source": [
        "print (type(name), type(height), type(age), type(male))"
      ],
      "execution_count": 6,
      "outputs": [
        {
          "output_type": "stream",
          "text": [
            "<class 'str'> <class 'float'> <class 'int'> <class 'bool'>\n"
          ],
          "name": "stdout"
        }
      ]
    },
    {
      "cell_type": "markdown",
      "metadata": {
        "id": "Zn4N-CYdBKi9",
        "colab_type": "text"
      },
      "source": [
        "# 1. integer to float"
      ]
    },
    {
      "cell_type": "code",
      "metadata": {
        "id": "au52Sz6DBORJ",
        "colab_type": "code",
        "colab": {
          "base_uri": "https://localhost:8080/",
          "height": 35
        },
        "outputId": "6c9b2d55-e8e1-4ffd-d30a-6b58e2715ad2"
      },
      "source": [
        "age = 22  #integer\n",
        "float (age) #float"
      ],
      "execution_count": 7,
      "outputs": [
        {
          "output_type": "execute_result",
          "data": {
            "text/plain": [
              "22.0"
            ]
          },
          "metadata": {
            "tags": []
          },
          "execution_count": 7
        }
      ]
    },
    {
      "cell_type": "markdown",
      "metadata": {
        "id": "jickrDgnBci8",
        "colab_type": "text"
      },
      "source": [
        "# 2. string to integer"
      ]
    },
    {
      "cell_type": "code",
      "metadata": {
        "id": "9zsEIgp3Bfy8",
        "colab_type": "code",
        "colab": {
          "base_uri": "https://localhost:8080/",
          "height": 35
        },
        "outputId": "c9a8a2c4-e2c4-4bb4-e881-10235ae02ac7"
      },
      "source": [
        "age = \"22\" #string\n",
        "int (age)  #integer"
      ],
      "execution_count": 8,
      "outputs": [
        {
          "output_type": "execute_result",
          "data": {
            "text/plain": [
              "22"
            ]
          },
          "metadata": {
            "tags": []
          },
          "execution_count": 8
        }
      ]
    },
    {
      "cell_type": "markdown",
      "metadata": {
        "id": "TqxVx9IcBoD3",
        "colab_type": "text"
      },
      "source": [
        "# 3. integer to string"
      ]
    },
    {
      "cell_type": "code",
      "metadata": {
        "id": "53cNUmuWBqUW",
        "colab_type": "code",
        "colab": {
          "base_uri": "https://localhost:8080/",
          "height": 35
        },
        "outputId": "e7077d83-a7f9-4bd8-dcb1-e8dca41c0071"
      },
      "source": [
        "age = 22 #integer\n",
        "str (age) #string"
      ],
      "execution_count": 10,
      "outputs": [
        {
          "output_type": "execute_result",
          "data": {
            "text/plain": [
              "'22'"
            ]
          },
          "metadata": {
            "tags": []
          },
          "execution_count": 10
        }
      ]
    },
    {
      "cell_type": "markdown",
      "metadata": {
        "id": "Dc4_7nGuCBMd",
        "colab_type": "text"
      },
      "source": [
        "# 4. bool to string"
      ]
    },
    {
      "cell_type": "code",
      "metadata": {
        "id": "YUkZIzPABsld",
        "colab_type": "code",
        "colab": {
          "base_uri": "https://localhost:8080/",
          "height": 35
        },
        "outputId": "0880525d-cdfe-4e68-8479-623bd6562d83"
      },
      "source": [
        "male = True #bool\n",
        "str (male) #string"
      ],
      "execution_count": 11,
      "outputs": [
        {
          "output_type": "execute_result",
          "data": {
            "text/plain": [
              "'True'"
            ]
          },
          "metadata": {
            "tags": []
          },
          "execution_count": 11
        }
      ]
    },
    {
      "cell_type": "markdown",
      "metadata": {
        "id": "Td49UIB8CmhP",
        "colab_type": "text"
      },
      "source": [
        "# Import the following class from SKlearn API,"
      ]
    },
    {
      "cell_type": "code",
      "metadata": {
        "id": "4-tJswGmCImj",
        "colab_type": "code",
        "colab": {}
      },
      "source": [
        "from sklearn import datasets"
      ],
      "execution_count": 0,
      "outputs": []
    },
    {
      "cell_type": "markdown",
      "metadata": {
        "id": "8iVnMtEUC3jO",
        "colab_type": "text"
      },
      "source": [
        "# 1. Random forest\n",
        "#2. Gaussian Naive bayes\n",
        "# 3. Decision tree\n",
        "# 4. Linear regression\n",
        "# 5. KMeans\n",
        "# 6. Train test split\n",
        "# 7. Classification report\n",
        "# 8. Accuracy"
      ]
    },
    {
      "cell_type": "code",
      "metadata": {
        "id": "WG4eDPjICzVb",
        "colab_type": "code",
        "colab": {}
      },
      "source": [
        "from sklearn.ensemble import RandomForestClassifier"
      ],
      "execution_count": 0,
      "outputs": []
    },
    {
      "cell_type": "code",
      "metadata": {
        "id": "EUHuSUssDMKU",
        "colab_type": "code",
        "colab": {}
      },
      "source": [
        "from sklearn.naive_bayes import GaussianNB"
      ],
      "execution_count": 0,
      "outputs": []
    },
    {
      "cell_type": "code",
      "metadata": {
        "id": "l74_9Y8bDzg9",
        "colab_type": "code",
        "colab": {}
      },
      "source": [
        "from sklearn.tree import DecisionTreeClassifier"
      ],
      "execution_count": 0,
      "outputs": []
    },
    {
      "cell_type": "code",
      "metadata": {
        "id": "C91ygTmXEWNU",
        "colab_type": "code",
        "colab": {}
      },
      "source": [
        "from sklearn.linear_model import LinearRegression"
      ],
      "execution_count": 0,
      "outputs": []
    },
    {
      "cell_type": "code",
      "metadata": {
        "id": "4PWFeaP6Ek8P",
        "colab_type": "code",
        "colab": {}
      },
      "source": [
        "from sklearn.cluster import KMeans"
      ],
      "execution_count": 0,
      "outputs": []
    },
    {
      "cell_type": "code",
      "metadata": {
        "id": "zRdjF829E3dU",
        "colab_type": "code",
        "colab": {}
      },
      "source": [
        "from sklearn.model_selection import train_test_split"
      ],
      "execution_count": 0,
      "outputs": []
    },
    {
      "cell_type": "code",
      "metadata": {
        "id": "uTAw3UgJFMRm",
        "colab_type": "code",
        "colab": {}
      },
      "source": [
        "from sklearn.metrics import classification_report"
      ],
      "execution_count": 0,
      "outputs": []
    },
    {
      "cell_type": "code",
      "metadata": {
        "id": "FRd_PZH9FV3v",
        "colab_type": "code",
        "colab": {}
      },
      "source": [
        "from sklearn.metrics import accuracy_score"
      ],
      "execution_count": 0,
      "outputs": []
    },
    {
      "cell_type": "code",
      "metadata": {
        "id": "NI3-COu6FfG6",
        "colab_type": "code",
        "colab": {}
      },
      "source": [
        ""
      ],
      "execution_count": 0,
      "outputs": []
    },
    {
      "cell_type": "code",
      "metadata": {
        "id": "6knJqLo5GoJt",
        "colab_type": "code",
        "colab": {}
      },
      "source": [
        ""
      ],
      "execution_count": 0,
      "outputs": []
    }
  ]
}